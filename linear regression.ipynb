{
 "cells": [
  {
   "cell_type": "code",
   "execution_count": 1,
   "id": "5a8cdaf7-741a-4b70-9e97-990a370d0209",
   "metadata": {},
   "outputs": [
    {
     "name": "stdout",
     "output_type": "stream",
     "text": [
      "Training RMSE: 6.507814330688532e-11\n",
      "Testing RMSE: 2.9103830456733704e-11\n"
     ]
    }
   ],
   "source": [
    "import numpy as np\n",
    "from sklearn.model_selection import train_test_split\n",
    "from sklearn.linear_model import LinearRegression\n",
    "from sklearn.metrics import mean_squared_error\n",
    "\n",
    "# Sample data: square footage, number of bedrooms, number of bathrooms, and prices of houses\n",
    "# You should replace this with your own dataset\n",
    "square_footage = np.array([1000, 1500, 2000, 2500, 3000]).reshape(-1, 1)\n",
    "bedrooms = np.array([2, 3, 3, 4, 4]).reshape(-1, 1)\n",
    "bathrooms = np.array([1, 1.5, 2, 2.5, 3]).reshape(-1, 1)\n",
    "prices = np.array([150000, 200000, 250000, 300000, 350000])\n",
    "\n",
    "# Concatenate features\n",
    "features = np.concatenate((square_footage, bedrooms, bathrooms), axis=1)\n",
    "\n",
    "# Splitting the dataset into training and testing sets\n",
    "X_train, X_test, y_train, y_test = train_test_split(features, prices, test_size=0.2, random_state=42)\n",
    "\n",
    "# Creating and fitting the model\n",
    "model = LinearRegression()\n",
    "model.fit(X_train, y_train)\n",
    "\n",
    "# Making predictions\n",
    "y_pred_train = model.predict(X_train)\n",
    "y_pred_test = model.predict(X_test)\n",
    "\n",
    "# Evaluating the model\n",
    "train_rmse = np.sqrt(mean_squared_error(y_train, y_pred_train))\n",
    "test_rmse = np.sqrt(mean_squared_error(y_test, y_pred_test))\n",
    "\n",
    "print(\"Training RMSE:\", train_rmse)\n",
    "print(\"Testing RMSE:\", test_rmse)\n"
   ]
  },
  {
   "cell_type": "code",
   "execution_count": null,
   "id": "e3c46905-f874-444a-bf64-addccebff1d4",
   "metadata": {},
   "outputs": [],
   "source": []
  }
 ],
 "metadata": {
  "kernelspec": {
   "display_name": "Python 3 (ipykernel)",
   "language": "python",
   "name": "python3"
  },
  "language_info": {
   "codemirror_mode": {
    "name": "ipython",
    "version": 3
   },
   "file_extension": ".py",
   "mimetype": "text/x-python",
   "name": "python",
   "nbconvert_exporter": "python",
   "pygments_lexer": "ipython3",
   "version": "3.11.9"
  }
 },
 "nbformat": 4,
 "nbformat_minor": 5
}
